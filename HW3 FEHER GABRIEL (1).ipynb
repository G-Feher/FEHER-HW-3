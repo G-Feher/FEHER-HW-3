{
 "cells": [
  {
   "cell_type": "code",
   "execution_count": 10,
   "id": "270d7120",
   "metadata": {},
   "outputs": [],
   "source": [
    "marks = {'andy': 88, 'amy': 66, 'james': 90, 'jules': 55, 'arthur':77}"
   ]
  },
  {
   "cell_type": "code",
   "execution_count": 12,
   "id": "7e620069",
   "metadata": {},
   "outputs": [
    {
     "data": {
      "text/plain": [
       "90"
      ]
     },
     "execution_count": 12,
     "metadata": {},
     "output_type": "execute_result"
    }
   ],
   "source": [
    "marks = {'andy': 88, 'amy': 66, 'james': 90, 'jules': 55, 'arthur':77} \n",
    "\n",
    "def score(name):\n",
    "    if name in marks:\n",
    "        return marks[name]\n",
    "    else:\n",
    "        print('You cannot find this student\\'s name')\n",
    "        \n",
    "score('james')\n",
    "  \n",
    "            "
   ]
  },
  {
   "cell_type": "code",
   "execution_count": 13,
   "id": "1750272c",
   "metadata": {},
   "outputs": [
    {
     "name": "stdout",
     "output_type": "stream",
     "text": [
      "You cannot find this student's name\n"
     ]
    }
   ],
   "source": [
    "score('brady')"
   ]
  },
  {
   "cell_type": "code",
   "execution_count": 22,
   "id": "b11fc53e",
   "metadata": {},
   "outputs": [
    {
     "data": {
      "text/plain": [
       "17.6"
      ]
     },
     "execution_count": 22,
     "metadata": {},
     "output_type": "execute_result"
    }
   ],
   "source": [
    "marks = {'andy': 88, 'amy': 66, 'james': 90, 'jules': 55, 'arthur':77}\n",
    "\n",
    "def scoreavg():\n",
    "    sum=0\n",
    "    for n in marks.values():\n",
    "        sum=+n\n",
    "        scoreavg=sum / len(marks.values())\n",
    "        return scoreavg\n",
    "scoreavg()"
   ]
  },
  {
   "cell_type": "code",
   "execution_count": 39,
   "id": "8444fc02",
   "metadata": {},
   "outputs": [
    {
     "name": "stdout",
     "output_type": "stream",
     "text": [
      "1 1\n",
      "\"greater than\" the num value\n"
     ]
    }
   ],
   "source": [
    "def loop(n, num):\n",
    "    while n < num:\n",
    "        print(n,n**2)\n",
    "        break\n",
    "    if n >= num:\n",
    "        print('\\\"greater than\\\" the num value')\n",
    "        \n",
    "loop(1,8)\n",
    "loop(20,8)\n",
    "    \n"
   ]
  },
  {
   "cell_type": "code",
   "execution_count": 47,
   "id": "055f4350",
   "metadata": {},
   "outputs": [
    {
     "name": "stdout",
     "output_type": "stream",
     "text": [
      "28\n"
     ]
    }
   ],
   "source": [
    "def addmachine(num):\n",
    "    n=0\n",
    "    sum=0\n",
    "    while n <= num: \n",
    "        sum += n\n",
    "        n += 1\n",
    "    print(sum)\n",
    "\n",
    "addmachine(7)\n"
   ]
  },
  {
   "cell_type": "code",
   "execution_count": 51,
   "id": "e7e9db12",
   "metadata": {},
   "outputs": [
    {
     "name": "stdout",
     "output_type": "stream",
     "text": [
      "1\n",
      "3\n",
      "6\n",
      "10\n",
      "15\n",
      "21\n",
      "28\n",
      "36\n"
     ]
    }
   ],
   "source": [
    "def summachine(num):\n",
    "    n=0\n",
    "    sum=0\n",
    "    for n in range (1, num+1):\n",
    "        sum+=n\n",
    "        print(sum)\n",
    "        \n",
    "summachine(8)"
   ]
  },
  {
   "cell_type": "code",
   "execution_count": 75,
   "id": "76af40eb",
   "metadata": {},
   "outputs": [
    {
     "name": "stdout",
     "output_type": "stream",
     "text": [
      "[1, 2, 3, 4, 5, 6, 7, 8, 9, 10, 11, 12, 13, 14, 15, 16, 17, 18, 19, 20, 21, 22, 23, 24, 25, 26, 27, 28, 29, 30, 31, 32, 33, 34, 35, 36, 37, 38, 39, 40, 41, 42, 43, 44, 45, 46, 47, 48, 49, 50, 51, 52, 53, 54, 55, 56, 57, 58, 59, 60, 61, 62, 63, 64, 65, 66, 67, 68, 69, 70, 71, 72, 73, 74, 75, 76, 77, 78, 79, 80, 81, 82, 83, 84, 85, 86, 87, 88, 89, 90, 91, 92, 93, 94, 95, 96, 97, 98, 99, 100]\n"
     ]
    },
    {
     "data": {
      "text/plain": [
       "(50.5, 5050, 29.011491975882016)"
      ]
     },
     "execution_count": 75,
     "metadata": {},
     "output_type": "execute_result"
    }
   ],
   "source": [
    "import statistics\n",
    "\n",
    "def mssd():\n",
    "    list=[]\n",
    "    for n in range (1,101):\n",
    "        list.append(n)\n",
    "    print(list)\n",
    "    return (statistics.mean(list),sum(list),statistics.stdev(list))\n",
    "mssd()"
   ]
  },
  {
   "cell_type": "code",
   "execution_count": 70,
   "id": "65eff97e",
   "metadata": {},
   "outputs": [
    {
     "name": "stdout",
     "output_type": "stream",
     "text": [
      "4\n"
     ]
    }
   ],
   "source": [
    "def minimal(v1,v2,v3,v4):\n",
    "    if v1<v2<v3<v4:\n",
    "        print(v1)\n",
    "\n",
    "    elif v1<v2<v4<v3:\n",
    "        print(v1)\n",
    "        \n",
    "    elif v1<v2<v3<v4:\n",
    "        print(v1)\n",
    "\n",
    "    elif v1<v3<v4<v2:\n",
    "        print(v1)\n",
    "        \n",
    "    elif v1<v3<v2<v4:\n",
    "        print(v1)\n",
    "        \n",
    "    elif v1<v4<v2<v3:\n",
    "        print(v1)\n",
    "        \n",
    "    elif v1<v4<v3<v2:\n",
    "        print(v1)\n",
    "        #v1 done\n",
    "    elif v2<v1<v3<v4:\n",
    "        print(v2)\n",
    "\n",
    "    elif v2<v1<v4<v3:\n",
    "        print(v2)\n",
    "        \n",
    "    elif v2<v3<v4<v1:\n",
    "        print(v2)\n",
    "        \n",
    "    elif v2<v3<v1<v4:\n",
    "        print(v2)\n",
    "        \n",
    "    elif v2<v4<v1<v3:\n",
    "        print(v2)\n",
    "        \n",
    "    elif v2<v4<v3<v1:\n",
    "        print(v2)\n",
    "        #v2 done\n",
    "    elif v3<v1<v2<v4:\n",
    "        print(v3)\n",
    "\n",
    "    elif v3<v1<v4<v2:\n",
    "        print(v3)\n",
    "        \n",
    "    elif v3<v2<v4<v1:\n",
    "        print(v3)\n",
    "        \n",
    "    elif v3<v2<v1<v4:\n",
    "        print(v3)\n",
    "        \n",
    "    elif v3<v4<v1<v2:\n",
    "        print(v3)\n",
    "        \n",
    "    elif v3<v4<v2<v1:\n",
    "        print(v3)\n",
    "        #v3 done\n",
    "    elif v4<v1<v3<v2:\n",
    "        print(v4)\n",
    "\n",
    "    elif v4<v1<v2<v3:\n",
    "        print(v4)\n",
    "        \n",
    "    elif v4<v3<v2<v1:\n",
    "        print(v4)\n",
    "        \n",
    "    elif v4<v3<v1<v2:\n",
    "        print(v4)\n",
    "        \n",
    "    elif v4<v2<v1<v3:\n",
    "        print(v4)\n",
    "        \n",
    "    elif v4<v2<v3<v1:\n",
    "        print(v4)\n",
    "    else:\n",
    "        print(\"no\")\n",
    "    \n",
    "minimal(6,5,7,4)\n",
    "    \n"
   ]
  },
  {
   "cell_type": "code",
   "execution_count": 88,
   "id": "2bfbbe96",
   "metadata": {},
   "outputs": [
    {
     "name": "stdout",
     "output_type": "stream",
     "text": [
      "abbccd\n"
     ]
    }
   ],
   "source": [
    "def conc(p1,p2,p3):\n",
    "    \n",
    "    print(p1+p2+p3)\n",
    "\n",
    "conc(\"ab\",\"bc\",\"cd\")"
   ]
  },
  {
   "cell_type": "code",
   "execution_count": null,
   "id": "676b0a1c",
   "metadata": {},
   "outputs": [],
   "source": []
  }
 ],
 "metadata": {
  "kernelspec": {
   "display_name": "Python 3",
   "language": "python",
   "name": "python3"
  },
  "language_info": {
   "codemirror_mode": {
    "name": "ipython",
    "version": 3
   },
   "file_extension": ".py",
   "mimetype": "text/x-python",
   "name": "python",
   "nbconvert_exporter": "python",
   "pygments_lexer": "ipython3",
   "version": "3.8.8"
  }
 },
 "nbformat": 4,
 "nbformat_minor": 5
}
